{
 "cells": [
  {
   "cell_type": "markdown",
   "metadata": {},
   "source": [
    "# Assignment - 3"
   ]
  },
  {
   "cell_type": "raw",
   "metadata": {},
   "source": [
    "1. Why are functions advantageous to have in your programs?\n",
    "ANSWER:    \n",
    "    Makes a program more readable\n",
    "    Enables reusability and reduces redundancy\n",
    "    Makes a code modular."
   ]
  },
  {
   "cell_type": "raw",
   "metadata": {},
   "source": [
    "2. When does the code in a function run: when it's specified or when it's called?\n",
    "ANSWER: \n",
    "    The function run(or execute) when it is called. When function is called the control flow which go to first line of code present inside the function."
   ]
  },
  {
   "cell_type": "raw",
   "metadata": {},
   "source": [
    "3. What statement creates a function?\n",
    "ANSWER: \n",
    "    def(keyword) followed by function_name then parentheses.\n",
    "    def function_name():\n"
   ]
  },
  {
   "cell_type": "code",
   "execution_count": 1,
   "metadata": {},
   "outputs": [],
   "source": [
    "def function3():\n",
    "    pass"
   ]
  },
  {
   "cell_type": "raw",
   "metadata": {},
   "source": [
    "4. What is the difference between a function and a function call?\n",
    "ANSWER: \n",
    "    Function: Function is set of codes which produce some result. Function is useless unless it is invoked or called.\n",
    "    Function Call: Function call is used to invoke or execute set of codes present inside the function."
   ]
  },
  {
   "cell_type": "code",
   "execution_count": 2,
   "metadata": {},
   "outputs": [
    {
     "data": {
      "text/plain": [
       "'Inside the function 4'"
      ]
     },
     "execution_count": 2,
     "metadata": {},
     "output_type": "execute_result"
    }
   ],
   "source": [
    "def function4():        # Function\n",
    "    return \"Inside the function 4\"\n",
    "\n",
    "function4()             # Function call"
   ]
  },
  {
   "cell_type": "raw",
   "metadata": {},
   "source": [
    "5. How many global scopes are there in a Python program? How many local scopes?\n",
    "ANSWER: \n",
    "    There are 1 global scopes and 1 local scope in the python program.\n"
   ]
  },
  {
   "cell_type": "raw",
   "metadata": {},
   "source": [
    "6. What happens to variables in a local scope when the function call returns?\n",
    "ANSWER: \n",
    "    The local variables are destroyed when function call returns."
   ]
  },
  {
   "cell_type": "raw",
   "metadata": {},
   "source": [
    "7. What is the concept of a return value? Is it possible to have a return value in an expression?\n",
    "ANSWER: \n",
    "    Return value is value, varible or expression which a function can return.\n",
    "    Yes function return value can be an expression"
   ]
  },
  {
   "cell_type": "raw",
   "metadata": {},
   "source": [
    "8. If a function does not have a return statement, what is the return value of a call to that function?\n",
    "ANSWER: \n",
    "       If a function does not have a return statement that means the function is not returning any values. In this case after function is executed completly it will return a NoneType."
   ]
  },
  {
   "cell_type": "raw",
   "metadata": {},
   "source": [
    "9. How do you make a function variable refer to the global variable?\n",
    "ANSWER: \n",
    "    This can be achieved by using global keyword to redefine the variable and make the changes of variable as global change."
   ]
  },
  {
   "cell_type": "raw",
   "metadata": {},
   "source": [
    "10. What is the data type of None?\n",
    "ANSWER: \n",
    "    None data type is a null variable or null object. The null object is a data type of class NoneType."
   ]
  },
  {
   "cell_type": "raw",
   "metadata": {},
   "source": [
    "11. What does the sentence import areallyourpetsnamederic do?\n",
    "ANSWER: \n",
    "    The statement \"import areallyourpetsnamederic\" will import the module or package areallyourpetsnamederic."
   ]
  },
  {
   "cell_type": "raw",
   "metadata": {},
   "source": [
    "12. If you had a bacon() feature in a spam module, what would you call it after importing spam?\n",
    "ANSWER: \n",
    "    After import the spam.\n",
    "    spam.bacon()"
   ]
  },
  {
   "cell_type": "code",
   "execution_count": 6,
   "metadata": {},
   "outputs": [],
   "source": [
    "# import spam\n",
    "# spam.bacon()"
   ]
  },
  {
   "cell_type": "raw",
   "metadata": {},
   "source": [
    "13. What can you do to save a programme from crashing if it encounters an error?\n",
    "ANSWER: To save the program from crashing over a runtime error we can use the try and except statement.It will save from only the runtime error not the compile time error.\n",
    "\n"
   ]
  },
  {
   "cell_type": "code",
   "execution_count": null,
   "metadata": {},
   "outputs": [],
   "source": [
    "try:\n",
    "    pass\n",
    "except:\n",
    "    pass"
   ]
  },
  {
   "cell_type": "raw",
   "metadata": {},
   "source": [
    "14. What is the purpose of the try clause? What is the purpose of the except clause?\n",
    "ANSWER:  \n",
    "    Together try and except block is used to save programme from crashing when an error is encountered.\n",
    "    Try: Try block is used for any suspicious code which can throw a runtime error.\n",
    "    Except: Except block is used to catch error if any encountered inside try block."
   ]
  }
 ],
 "metadata": {
  "kernelspec": {
   "display_name": "Python 3",
   "language": "python",
   "name": "python3"
  },
  "language_info": {
   "codemirror_mode": {
    "name": "ipython",
    "version": 3
   },
   "file_extension": ".py",
   "mimetype": "text/x-python",
   "name": "python",
   "nbconvert_exporter": "python",
   "pygments_lexer": "ipython3",
   "version": "3.8.3"
  }
 },
 "nbformat": 4,
 "nbformat_minor": 4
}
