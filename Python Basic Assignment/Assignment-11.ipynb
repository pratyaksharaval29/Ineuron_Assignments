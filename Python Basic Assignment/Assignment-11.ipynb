{
 "cells": [
  {
   "cell_type": "markdown",
   "metadata": {},
   "source": [
    "# Assignment-11"
   ]
  },
  {
   "cell_type": "markdown",
   "metadata": {},
   "source": [
    "1. Create an assert statement that throws an AssertionError if the variable spam is a negative integer. <br>\n",
    "assert spam > 0, \"Negative not allowed!\""
   ]
  },
  {
   "cell_type": "markdown",
   "metadata": {},
   "source": [
    "2. Write an assert statement that triggers an AssertionError if the variables eggs and bacon contain strings that are the same as each other, even if their cases are different (that is, 'hello' and 'hello' are considered the same, and 'goodbye' and 'GOODbye' are also considered the same). \n",
    "Ans:\n",
    "assert eggs.lower()!=bacon.lower(), \"eggs and bacon shouldn't be same!\""
   ]
  },
  {
   "cell_type": "markdown",
   "metadata": {},
   "source": [
    "3. Create an assert statement that throws an AssertionError every time. <br>\n",
    "Ans:\n",
    "assert False"
   ]
  },
  {
   "cell_type": "markdown",
   "metadata": {},
   "source": [
    "4. What are the two lines that must be present in your software in order to call logging.debug()? <br>\n",
    "Ans: \n",
    "import logging <br>\n",
    "\n",
    "logging.basicConfig(fiename, level=logging.DEBUG) <br>"
   ]
  },
  {
   "cell_type": "markdown",
   "metadata": {},
   "source": [
    "5. What are the two lines that your program must have in order to have logging.debug() send a logging message to a file named programLog.txt? <br>\n",
    "Ans: <br>\n",
    "import logging <br>\n",
    "\n",
    "logging.basicConfig(fiename, level=logging.DEBUG)"
   ]
  },
  {
   "cell_type": "markdown",
   "metadata": {},
   "source": [
    "6. What are the five levels of logging? <br>\n",
    "Ans: <br>\n",
    "logging.error() <br>\n",
    "\n",
    "logging.warning() <br>\n",
    "\n",
    "logging.info() <br>\n",
    "\n",
    "logging.critical() <br>\n",
    "\n",
    "logging.debug() <br>\n"
   ]
  },
  {
   "cell_type": "markdown",
   "metadata": {},
   "source": [
    "7. What line of code would you add to your software to disable all logging messages? <br>\n",
    "Ans: <br>\n",
    "logging.disable(level)"
   ]
  },
  {
   "cell_type": "markdown",
   "metadata": {},
   "source": [
    "8. Why is using logging messages better than using print() to display the same message? <br>\n",
    "Ans:  <br>\n",
    "It helps to see where and when a logging call is being made from <br>\n",
    "\n",
    "we can differentiate logging based on severity <br>\n",
    "\n",
    "print does not have any of them <br>"
   ]
  },
  {
   "cell_type": "markdown",
   "metadata": {},
   "source": [
    "9. What are the differences between the Step Over, Step In, and Step Out buttons in the debugger? <br>\n",
    "Ans:<br>\n",
    "Step In will dig into method calls. <br>\n",
    "\n",
    "Step Over will just execute the line and go to the next line. <br>\n",
    "\n",
    "Step Out Steps out of the current method and takes you to the caller method."
   ]
  },
  {
   "cell_type": "markdown",
   "metadata": {},
   "source": [
    "10. After you click Continue, when will the debugger stop ? <br>\n",
    "Ans: <br>\n",
    "when it has reached the end of a program or a breakpoint <br>\n"
   ]
  },
  {
   "cell_type": "markdown",
   "metadata": {},
   "source": [
    "11. What is the concept of a breakpoint? <br>\n",
    "Ans: <br>\n",
    "An intentional stopping point or pause put into program for debugging purpose. "
   ]
  },
  {
   "cell_type": "code",
   "execution_count": null,
   "metadata": {},
   "outputs": [],
   "source": []
  }
 ],
 "metadata": {
  "kernelspec": {
   "display_name": "Python 3",
   "language": "python",
   "name": "python3"
  },
  "language_info": {
   "codemirror_mode": {
    "name": "ipython",
    "version": 3
   },
   "file_extension": ".py",
   "mimetype": "text/x-python",
   "name": "python",
   "nbconvert_exporter": "python",
   "pygments_lexer": "ipython3",
   "version": "3.8.3"
  }
 },
 "nbformat": 4,
 "nbformat_minor": 4
}
