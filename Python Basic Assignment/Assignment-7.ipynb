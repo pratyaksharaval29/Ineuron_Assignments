{
 "cells": [
  {
   "cell_type": "markdown",
   "metadata": {},
   "source": [
    "# Assignment-7\n"
   ]
  },
  {
   "cell_type": "markdown",
   "metadata": {},
   "source": [
    "1. What is the name of the feature responsible for generating Regex objects? <br>\n",
    "Ans:\n",
    "re.compile()"
   ]
  },
  {
   "cell_type": "markdown",
   "metadata": {},
   "source": [
    "2. Why do raw strings often appear in Regex objects? <br>\n",
    "Ans:\n",
    "Raw string notation keeps regular expression meaningful and confusion free. Without it every backslash(' \\ ') in regular expression would have to be prefixed with another one to escape it."
   ]
  },
  {
   "cell_type": "markdown",
   "metadata": {},
   "source": [
    "3. What is the return value of the search() method? <br>\n",
    "Ans:\n",
    "It returns a match object if there is a match else returns none."
   ]
  },
  {
   "cell_type": "markdown",
   "metadata": {},
   "source": [
    "4. From a Match item, how do you get the actual strings that match the pattern? <br>\n",
    "Ans:\n",
    "group() method returns the actual string that match the pattern."
   ]
  },
  {
   "cell_type": "markdown",
   "metadata": {},
   "source": [
    "5. In the regex which created from the r`(\\d\\d\\d)-(\\d\\d\\d-\\d\\d\\d\\d)`;, what does group zero cover?Group 2? Group 1? <br>\n",
    "Ans:\n",
    "group 0 covers (\\d\\d\\d)-(\\d\\d\\d-\\d\\d\\d\\d) <br>\n",
    "group 1 covers (\\d\\d\\d) <br>\n",
    "group 2 covers (\\d\\d\\d-\\d\\d\\d\\d)"
   ]
  },
  {
   "cell_type": "markdown",
   "metadata": {},
   "source": [
    "6. In standard expression syntax, parentheses and intervals have distinct meanings. How can you tell a regex that you want it to fit real parentheses and periods?\n"
   ]
  },
  {
   "cell_type": "code",
   "execution_count": 4,
   "metadata": {},
   "outputs": [],
   "source": [
    "#ANS:\n",
    "# \\.,  \\(,  \\)"
   ]
  },
  {
   "cell_type": "markdown",
   "metadata": {},
   "source": [
    "7. The findall() method returns a string list or a list of string tuples. What causes it to return one of the two options? <br>\n",
    "Ans:\n",
    "If there is a one group in the expression, findall() returns list of strings. If there is several groups in the expression, findall() returns list of tuple of strings."
   ]
  },
  {
   "cell_type": "markdown",
   "metadata": {},
   "source": [
    "8. In standard expressions, what does the | character mean? <br>\n",
    "Ans:\n",
    "It means either or\n"
   ]
  },
  {
   "cell_type": "markdown",
   "metadata": {},
   "source": [
    "9. In regular expressions, what does the character stand for? <br>\n",
    "Ans:\n",
    "Zero or one occerences"
   ]
  },
  {
   "cell_type": "markdown",
   "metadata": {},
   "source": [
    "10.In regular expressions, what is the difference between the + and * characters? <br>\n",
    "Ans:\n",
    "' + ' refers one or more occurences\n",
    "' * ' refers zero or more occurences."
   ]
  },
  {
   "cell_type": "markdown",
   "metadata": {},
   "source": [
    "11. What is the difference between {4} and {4,5} in regular expression? <br>\n",
    "Ans:\n",
    "{4} means preceding character is to be repeated 4 times. <br>\n",
    "{4,5} means preceding character is repeated minimum 4 times and maximum 5 times.\n"
   ]
  },
  {
   "cell_type": "markdown",
   "metadata": {},
   "source": [
    "12. What do you mean by the \\d, \\w, and \\s shorthand character classes signify in regular expressions? <br>\n",
    "Ans:\n",
    "\\d returns a match where string contains digit(number from 0-9) <br>\n",
    "\\w returns a match where string contains any word character(character from a to Z, digit from 0 to 9 and underscore character) <br>\n",
    "\\s returns a match where string contains a whitespace character. <br>"
   ]
  },
  {
   "cell_type": "markdown",
   "metadata": {},
   "source": [
    "14. What is the difference between .*? and .*? <br>\n",
    "Ans: \n",
    "' . ' accepts as many sequence as available(Greedy approach) <br>\n",
    "' .? ' accepts the first matched sequence and then stops(Non-Greedy approach)."
   ]
  },
  {
   "cell_type": "markdown",
   "metadata": {},
   "source": [
    "15. What is the syntax for matching both numbers and lowercase letters with a character class? <br>\n",
    "Ans: [a-z0-9]\n"
   ]
  },
  {
   "cell_type": "markdown",
   "metadata": {},
   "source": [
    "16. What is the procedure for making a normal expression in regax case insensitive? <br>\n",
    "Ans: pass re.IGNORECASE to re.compile()"
   ]
  },
  {
   "cell_type": "markdown",
   "metadata": {},
   "source": [
    "17. What does the . character normally match? What does it match if re.DOTALL is passed as 2nd argument in re.compile()? <br>\n",
    "ANs: ' . ' character normally pass any character except newline character. With the help of DOTALL, ' . ' character can match any character including newline."
   ]
  },
  {
   "cell_type": "markdown",
   "metadata": {},
   "source": [
    "18. If numReg = re.compile(r'\\d+'), what will numReg.sub('X', '11 drummers, 10 pipers, five rings, 4 hen') return? <br>\n",
    "Ans:\n",
    "'X drummers, X pipers, five rings, X hen'"
   ]
  },
  {
   "cell_type": "markdown",
   "metadata": {},
   "source": [
    "19. What does passing re.VERBOSE as the 2nd argument to re.compile() allow to do? <br>\n",
    "Ans:\n",
    "It allows to write regular expressin that look nicer and are more readable by allowing visually separate logical section of the pattern and add comments.\n"
   ]
  },
  {
   "cell_type": "markdown",
   "metadata": {},
   "source": [
    "20. How would you write a regex that match a number with comma for every three digits? It must match the given following:\n",
    "`42`\n",
    "`1,234`\n",
    "`6,368,745`\n",
    "but not the following:\n",
    "`12,34,567` (which has only two digits between the commas)\n",
    "`1234` (which lacks commas)"
   ]
  },
  {
   "cell_type": "markdown",
   "metadata": {},
   "source": [
    "21. How would you write a regex that matches the full name of someone whose last name isWatanabe? You can assume that the first name that comes before it will always be one word thatbegins with a capital letter. The regex must match the following:\n",
    "`Haruto Watanabe`\n",
    "`Alice Watanabe`\n",
    "`RoboCop Watanabe`\n",
    "but not the following:\n",
    "`haruto Watanabe` (where the first name is not capitalized)\n",
    "`Mr. Watanabe` (where the preceding word has a nonletter character)\n",
    "`Watanabe` (which has no first name)\n",
    "`Haruto watanabe` (where Watanabe is not capitalized)\n"
   ]
  },
  {
   "cell_type": "markdown",
   "metadata": {},
   "source": [
    "22. How would you write a regex that matches a sentence where the first word is either Alice, Bob,or Carol; the second word is either eats, pets, or throws; the third word is apples, cats, or baseballs; and the sentence ends with a period? This regex should be case-insensitive. It must match the following:\n",
    "`Alice eats apples.`\n",
    "`Bob pets cats.`\n",
    "`Carol throws baseballs.`\n",
    "`Alice throws Apples.`\n",
    "`BOB EATS CATS.`\n",
    "but not the following:\n",
    "`RoboCop eats apples.`\n",
    "`ALICE THROWS FOOTBALLS.`\n",
    "`Carol eats 7 cats.`"
   ]
  }
 ],
 "metadata": {
  "kernelspec": {
   "display_name": "Python 3",
   "language": "python",
   "name": "python3"
  },
  "language_info": {
   "codemirror_mode": {
    "name": "ipython",
    "version": 3
   },
   "file_extension": ".py",
   "mimetype": "text/x-python",
   "name": "python",
   "nbconvert_exporter": "python",
   "pygments_lexer": "ipython3",
   "version": "3.8.3"
  }
 },
 "nbformat": 4,
 "nbformat_minor": 4
}
